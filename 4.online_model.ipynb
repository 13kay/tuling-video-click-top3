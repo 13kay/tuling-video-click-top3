{
 "cells": [
  {
   "cell_type": "code",
   "execution_count": null,
   "metadata": {
    "ExecuteTime": {
     "end_time": "2020-02-11T05:39:50.155898Z",
     "start_time": "2020-02-11T05:39:49.510099Z"
    }
   },
   "outputs": [],
   "source": [
    "import pandas as pd\n",
    "import numpy as np\n",
    "import os\n",
    "from sklearn.preprocessing import LabelEncoder\n",
    "from tqdm import tqdm\n",
    "import lightgbm as lgb\n",
    "from sklearn.model_selection import KFold, StratifiedKFold\n",
    "import warnings\n",
    "from sklearn.metrics import f1_score\n",
    "import catboost as cbt\n",
    "import gc\n",
    "\n",
    "pd.set_option('display.max_columns', None)\n",
    "pd.set_option('display.max_rows', None)\n",
    "warnings.filterwarnings('ignore')"
   ]
  },
  {
   "cell_type": "code",
   "execution_count": null,
   "metadata": {
    "ExecuteTime": {
     "end_time": "2020-02-11T05:39:50.159779Z",
     "start_time": "2020-02-11T05:39:50.157281Z"
    }
   },
   "outputs": [],
   "source": [
    "current_path = './'\n",
    "seed = 2019"
   ]
  },
  {
   "cell_type": "code",
   "execution_count": null,
   "metadata": {
    "ExecuteTime": {
     "end_time": "2020-02-11T05:41:08.245550Z",
     "start_time": "2020-02-11T05:39:50.225930Z"
    }
   },
   "outputs": [],
   "source": [
    "df_feature = pd.read_pickle(os.path.join(\n",
    "    current_path, 'feature', 'feature_1.pickle'))\n",
    "df_feature['id'] = df_feature['id'].astype('str')"
   ]
  },
  {
   "cell_type": "code",
   "execution_count": null,
   "metadata": {
    "ExecuteTime": {
     "end_time": "2020-02-11T05:41:08.284415Z",
     "start_time": "2020-02-11T05:41:08.268086Z"
    }
   },
   "outputs": [],
   "source": [
    "df_feature.shape"
   ]
  },
  {
   "cell_type": "code",
   "execution_count": null,
   "metadata": {
    "ExecuteTime": {
     "end_time": "2020-02-04T01:26:19.495464Z",
     "start_time": "2020-02-04T01:25:47.948238Z"
    }
   },
   "outputs": [],
   "source": [
    "df_oof_lgb = pd.read_pickle(os.path.join(\n",
    "    current_path, 'prob', 'oof_lgb_qian.pickle'))\n",
    "df_oof_lgb.columns = ['id', 'lgb_oof_prob']\n",
    "df_feature = df_feature.merge(df_oof_lgb, how='left', on='id')\n",
    "print(df_feature['lgb_oof_prob'].isnull().sum())"
   ]
  },
  {
   "cell_type": "code",
   "execution_count": null,
   "metadata": {
    "ExecuteTime": {
     "end_time": "2020-02-04T01:26:51.489261Z",
     "start_time": "2020-02-04T01:26:19.511612Z"
    }
   },
   "outputs": [],
   "source": [
    "df_oof_cat = pd.read_pickle(os.path.join(\n",
    "    current_path, 'prob', 'oof_cat.pickle'))\n",
    "df_oof_cat.columns = ['id', 'cat_oof_prob']\n",
    "df_feature = df_feature.merge(df_oof_cat, how='left', on='id')\n",
    "print(df_feature['cat_oof_prob'].isnull().sum())"
   ]
  },
  {
   "cell_type": "code",
   "execution_count": null,
   "metadata": {
    "ExecuteTime": {
     "end_time": "2020-02-04T01:26:51.662981Z",
     "start_time": "2020-02-04T01:26:51.490569Z"
    }
   },
   "outputs": [],
   "source": [
    "df_feature.head()"
   ]
  },
  {
   "cell_type": "code",
   "execution_count": null,
   "metadata": {
    "ExecuteTime": {
     "end_time": "2020-02-04T01:26:51.692673Z",
     "start_time": "2020-02-04T01:26:51.664289Z"
    }
   },
   "outputs": [],
   "source": [
    "with open(os.path.join(current_path, 'best_it.txt'), 'r') as f:\n",
    "    lines = f.readlines()\n",
    "    best_iteration = lines[0]\n",
    "    f1 = lines[1]\n",
    "\n",
    "best_iteration = int(best_iteration)\n",
    "f1 = float(f1)\n",
    "print(best_iteration, f1)"
   ]
  },
  {
   "cell_type": "code",
   "execution_count": null,
   "metadata": {
    "ExecuteTime": {
     "end_time": "2020-02-04T01:26:51.699332Z",
     "start_time": "2020-02-04T01:26:51.695196Z"
    }
   },
   "outputs": [],
   "source": [
    "bt = int(best_iteration * 1)\n",
    "print(bt)"
   ]
  },
  {
   "cell_type": "code",
   "execution_count": null,
   "metadata": {
    "ExecuteTime": {
     "end_time": "2020-02-04T01:28:44.322415Z",
     "start_time": "2020-02-04T01:26:51.701108Z"
    }
   },
   "outputs": [],
   "source": [
    "for f in tqdm(list(df_feature.select_dtypes('object'))):\n",
    "    if f not in ['id']:\n",
    "        le = LabelEncoder()\n",
    "        df_feature[f] = le.fit_transform(\n",
    "            df_feature[f].astype('str')).astype('int')"
   ]
  },
  {
   "cell_type": "code",
   "execution_count": null,
   "metadata": {
    "ExecuteTime": {
     "end_time": "2020-02-04T01:29:16.236420Z",
     "start_time": "2020-02-04T01:29:16.221939Z"
    }
   },
   "outputs": [],
   "source": [
    "df_test = df_feature[df_feature['target'].isnull()]\n",
    "df_train = df_feature[df_feature['target'].notnull()]\n",
    "\n",
    "del df_feature, df_oof_lgb, df_oof_cat\n",
    "gc.collect()"
   ]
  },
  {
   "cell_type": "code",
   "execution_count": null,
   "metadata": {
    "ExecuteTime": {
     "end_time": "2020-02-04T01:31:34.791258Z",
     "start_time": "2020-02-04T01:29:20.948750Z"
    },
    "scrolled": true
   },
   "outputs": [],
   "source": [
    "ycol = 'target'\n",
    "feature_names = list(\n",
    "    filter(lambda x: x not in [ycol, 'timestamp', 'ts', 'id', 'day', 'hour', 'minute', 'ts_datetime', 'minute10',\n",
    "                               'personidentification', 'level', 'followscore', 'personalscore', 'gender',\n",
    "                               'hourl', 'group'],\n",
    "           df_train.columns))\n",
    "\n",
    "X_train = df_train[feature_names]\n",
    "Y_train = df_train[ycol]\n",
    "\n",
    "model = lgb.LGBMClassifier(num_leaves=64,\n",
    "                           max_depth=10,\n",
    "                           learning_rate=0.4,\n",
    "                           n_estimators=bt,\n",
    "                           subsample=0.8,\n",
    "                           feature_fraction=0.8,\n",
    "                           reg_alpha=0.5,\n",
    "                           reg_lambda=0.5,\n",
    "                           random_state=seed,\n",
    "                           metric='auc',\n",
    "                           )\n",
    "\n",
    "lgb_model2 = model.fit(X_train,\n",
    "                       Y_train,\n",
    "                       eval_names=['train', 'valid'],\n",
    "                       eval_set=[(X_train, Y_train)],\n",
    "                       verbose=50,\n",
    "                       eval_metric='auc')"
   ]
  },
  {
   "cell_type": "code",
   "execution_count": null,
   "metadata": {
    "ExecuteTime": {
     "end_time": "2020-02-04T01:31:35.054266Z",
     "start_time": "2020-02-04T01:31:34.794101Z"
    }
   },
   "outputs": [],
   "source": [
    "df_importance = pd.DataFrame({\n",
    "    'feature': feature_names,\n",
    "    'importance': lgb_model2.feature_importances_,\n",
    "})\n",
    "\n",
    "df_importance = df_importance.sort_values(by='importance', ascending=False)\n",
    "df_importance"
   ]
  },
  {
   "cell_type": "code",
   "execution_count": null,
   "metadata": {
    "ExecuteTime": {
     "end_time": "2020-02-04T01:31:52.563920Z",
     "start_time": "2020-02-04T01:31:35.057758Z"
    }
   },
   "outputs": [],
   "source": [
    "test_pred = lgb_model2.predict_proba(\n",
    "    df_test[feature_names], num_iteration=bt)[:, 1]\n",
    "prediction = df_test[['id']]\n",
    "prediction['target'] = test_pred\n",
    "np.save(os.path.join(current_path, 'prob',\n",
    "                     'sub_{}.npy'.format(f1)), prediction.values)"
   ]
  },
  {
   "cell_type": "code",
   "execution_count": null,
   "metadata": {
    "ExecuteTime": {
     "end_time": "2020-02-04T01:31:58.920512Z",
     "start_time": "2020-02-04T01:31:52.565295Z"
    }
   },
   "outputs": [],
   "source": [
    "sub = prediction.copy(deep=True)\n",
    "sub['target'] = sub['target'].rank()\n",
    "sub['target'] = (sub['target'] >= sub.shape[0] *\n",
    "                 0.8934642948637943).astype(int)\n",
    "sub.to_csv(os.path.join(current_path, 'sub', '{}.csv'.format(f1)),\n",
    "           index=False, encoding='utf-8')"
   ]
  }
 ],
 "metadata": {
  "kernelspec": {
   "display_name": "Python [conda env:dm] *",
   "language": "python",
   "name": "conda-env-dm-py"
  },
  "language_info": {
   "codemirror_mode": {
    "name": "ipython",
    "version": 3
   },
   "file_extension": ".py",
   "mimetype": "text/x-python",
   "name": "python",
   "nbconvert_exporter": "python",
   "pygments_lexer": "ipython3",
   "version": "3.6.9"
  }
 },
 "nbformat": 4,
 "nbformat_minor": 2
}
