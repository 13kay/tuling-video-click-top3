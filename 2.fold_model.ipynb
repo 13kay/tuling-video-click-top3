{
 "cells": [
  {
   "cell_type": "code",
   "execution_count": null,
   "metadata": {
    "ExecuteTime": {
     "end_time": "2020-02-01T15:00:19.964638Z",
     "start_time": "2020-02-01T15:00:15.809763Z"
    }
   },
   "outputs": [],
   "source": [
    "import pandas as pd\n",
    "import numpy as np\n",
    "import os\n",
    "from sklearn.preprocessing import LabelEncoder\n",
    "from tqdm import tqdm\n",
    "import lightgbm as lgb\n",
    "from sklearn.model_selection import KFold, StratifiedKFold\n",
    "import warnings\n",
    "from sklearn.metrics import f1_score, roc_auc_score\n",
    "import catboost as cbt\n",
    "import gc\n",
    "\n",
    "pd.set_option('display.max_columns', None)\n",
    "pd.set_option('display.max_rows', None)\n",
    "warnings.filterwarnings('ignore')"
   ]
  },
  {
   "cell_type": "code",
   "execution_count": null,
   "metadata": {
    "ExecuteTime": {
     "end_time": "2020-02-01T15:00:19.968893Z",
     "start_time": "2020-02-01T15:00:19.966513Z"
    }
   },
   "outputs": [],
   "source": [
    "current_path = './'\n",
    "seed = 2019\n",
    "n_fold = 5"
   ]
  },
  {
   "cell_type": "code",
   "execution_count": null,
   "metadata": {
    "ExecuteTime": {
     "end_time": "2020-02-01T12:40:36.400426Z",
     "start_time": "2020-02-01T12:40:08.871667Z"
    },
    "scrolled": true
   },
   "outputs": [],
   "source": [
    "df_feature = pd.read_pickle(os.path.join(\n",
    "    current_path, 'feature', 'feature.pickle'))"
   ]
  },
  {
   "cell_type": "code",
   "execution_count": null,
   "metadata": {
    "ExecuteTime": {
     "end_time": "2020-02-01T12:40:36.512167Z",
     "start_time": "2020-02-01T12:40:36.401765Z"
    },
    "scrolled": true
   },
   "outputs": [],
   "source": [
    "df_feature.head()"
   ]
  },
  {
   "cell_type": "code",
   "execution_count": null,
   "metadata": {
    "ExecuteTime": {
     "end_time": "2020-02-01T12:42:29.640354Z",
     "start_time": "2020-02-01T12:40:36.513434Z"
    }
   },
   "outputs": [],
   "source": [
    "for f in tqdm(list(df_feature.select_dtypes('object'))):\n",
    "    if f not in ['id']:\n",
    "        le = LabelEncoder()\n",
    "        df_feature[f] = le.fit_transform(\n",
    "            df_feature[f].astype('str')).astype('int')"
   ]
  },
  {
   "cell_type": "code",
   "execution_count": null,
   "metadata": {
    "ExecuteTime": {
     "end_time": "2020-02-01T12:42:43.750204Z",
     "start_time": "2020-02-01T12:42:29.642972Z"
    }
   },
   "outputs": [],
   "source": [
    "df_test = df_feature[df_feature['target'].isnull()].copy()\n",
    "df_train = df_feature[df_feature['target'].notnull()].copy()\n",
    "\n",
    "del df_feature\n",
    "gc.collect()"
   ]
  },
  {
   "cell_type": "code",
   "execution_count": null,
   "metadata": {
    "ExecuteTime": {
     "end_time": "2020-02-01T13:43:58.090439Z",
     "start_time": "2020-02-01T12:42:43.751557Z"
    },
    "scrolled": true
   },
   "outputs": [],
   "source": [
    "ycol = 'target'\n",
    "feature_names = list(\n",
    "    filter(lambda x: x not in [ycol, 'timestamp', 'ts', 'id', 'day', 'hour', 'minute', 'ts_datetime', 'minute10',\n",
    "                               'personidentification', 'level', 'followscore', 'personalscore', 'gender',\n",
    "                               'hourl', 'group'],\n",
    "           df_train.columns))\n",
    "\n",
    "model = lgb.LGBMClassifier(num_leaves=64,\n",
    "                           max_depth=10,\n",
    "                           learning_rate=0.4,\n",
    "                           n_estimators=10000000,\n",
    "                           subsample=0.8,\n",
    "                           feature_fraction=0.8,\n",
    "                           reg_alpha=0.5,\n",
    "                           reg_lambda=0.5,\n",
    "                           random_state=seed,\n",
    "                           metric='auc'\n",
    "                           )\n",
    "\n",
    "# model = lgb.LGBMClassifier(\n",
    "#     learning_rate=0.01,\n",
    "#     n_estimators=10000000,\n",
    "#     num_leaves=255,\n",
    "#     subsample=0.9,\n",
    "#     colsample_bytree=0.8,\n",
    "#     random_state=seed,\n",
    "#     metric='auc'\n",
    "# )\n",
    "\n",
    "oof = []\n",
    "prediction = df_test[['id']]\n",
    "prediction['target'] = 0\n",
    "df_importance_list = []\n",
    "\n",
    "kfold = StratifiedKFold(n_splits=n_fold, shuffle=False, random_state=seed)\n",
    "for fold_id, (trn_idx, val_idx) in enumerate(kfold.split(df_train[feature_names], df_train['day'])):\n",
    "    X_train = df_train.iloc[trn_idx][feature_names]\n",
    "    Y_train = df_train.iloc[trn_idx][ycol]\n",
    "\n",
    "    X_val = df_train.iloc[val_idx][feature_names]\n",
    "    Y_val = df_train.iloc[val_idx][ycol]\n",
    "\n",
    "    print('\\nFold_{} Training ================================\\n'.format(fold_id+1))\n",
    "\n",
    "    lgb_model = model.fit(X_train,\n",
    "                          Y_train,\n",
    "                          eval_names=['train', 'valid'],\n",
    "                          eval_set=[(X_train, Y_train), (X_val, Y_val)],\n",
    "                          verbose=100,\n",
    "                          eval_metric='auc',\n",
    "                          early_stopping_rounds=50)\n",
    "\n",
    "    pred_val = lgb_model.predict_proba(\n",
    "        X_val, num_iteration=lgb_model.best_iteration_)[:, 1]\n",
    "    df_oof = df_train.iloc[val_idx][['id', ycol]].copy()\n",
    "    df_oof['pred'] = pred_val\n",
    "    oof.append(df_oof)\n",
    "\n",
    "    pred_test = lgb_model.predict_proba(\n",
    "        df_test[feature_names], num_iteration=lgb_model.best_iteration_)[:, 1]\n",
    "    prediction['target'] += pred_test / n_fold\n",
    "\n",
    "    df_importance = pd.DataFrame({\n",
    "        'column': feature_names,\n",
    "        'importance': lgb_model.feature_importances_,\n",
    "    })\n",
    "    df_importance_list.append(df_importance)\n",
    "\n",
    "    del lgb_model, pred_val, pred_test, X_train, Y_train, X_val, Y_val\n",
    "    gc.collect()"
   ]
  },
  {
   "cell_type": "code",
   "execution_count": null,
   "metadata": {
    "ExecuteTime": {
     "end_time": "2020-02-01T13:43:58.129389Z",
     "start_time": "2020-02-01T13:43:58.097914Z"
    }
   },
   "outputs": [],
   "source": [
    "df_importance = pd.concat(df_importance_list)\n",
    "df_importance = df_importance.groupby(['column'])['importance'].agg(\n",
    "    'mean').sort_values(ascending=False).reset_index()\n",
    "df_importance"
   ]
  },
  {
   "cell_type": "code",
   "execution_count": null,
   "metadata": {
    "ExecuteTime": {
     "end_time": "2020-02-01T13:44:17.576713Z",
     "start_time": "2020-02-01T13:43:58.132193Z"
    }
   },
   "outputs": [],
   "source": [
    "df_oof = pd.concat(oof)\n",
    "df_oof['pred_bin'] = df_oof['pred'].rank()\n",
    "df_oof['pred_bin'] = (df_oof['pred_bin'] >= df_oof.shape[0]\n",
    "                      * 0.8934642948637943).astype(int)\n",
    "\n",
    "auc = roc_auc_score(df_oof['target'], df_oof['pred_bin'])\n",
    "f1 = f1_score(df_oof['target'], df_oof['pred_bin'])\n",
    "\n",
    "print('f1:', f1)\n",
    "print('auc:', auc)"
   ]
  },
  {
   "cell_type": "code",
   "execution_count": null,
   "metadata": {
    "ExecuteTime": {
     "end_time": "2020-02-01T13:44:26.479783Z",
     "start_time": "2020-02-01T13:44:17.578394Z"
    }
   },
   "outputs": [],
   "source": [
    "sub = prediction.copy(deep=True)\n",
    "sub['target'] = sub['target'].rank()\n",
    "sub['target'] = (sub['target'] >= sub.shape[0] *\n",
    "                 0.8934642948637943).astype(int)\n",
    "sub.to_csv(os.path.join(current_path, 'sub', '{}.csv'.format(f1)),\n",
    "           index=False, encoding='utf-8')"
   ]
  },
  {
   "cell_type": "code",
   "execution_count": null,
   "metadata": {
    "ExecuteTime": {
     "end_time": "2020-02-01T13:44:33.645096Z",
     "start_time": "2020-02-01T13:44:32.889239Z"
    }
   },
   "outputs": [],
   "source": [
    "oof_train = df_oof[['id', 'pred']]\n",
    "oof_test = prediction[['id', 'target']]\n",
    "\n",
    "oof_train.columns = ['id', 'oof_prob']\n",
    "oof_test.columns = ['id', 'oof_prob']\n",
    "\n",
    "oof = pd.concat([oof_train, oof_test], sort=False)"
   ]
  },
  {
   "cell_type": "code",
   "execution_count": null,
   "metadata": {
    "ExecuteTime": {
     "end_time": "2020-02-01T15:03:28.700849Z",
     "start_time": "2020-02-01T15:03:24.089293Z"
    }
   },
   "outputs": [],
   "source": [
    "oof.to_pickle(os.path.join(current_path, 'prob', 'oof_lgb_qian.pickle'))"
   ]
  }
 ],
 "metadata": {
  "kernelspec": {
   "display_name": "Python [conda env:dm] *",
   "language": "python",
   "name": "conda-env-dm-py"
  },
  "language_info": {
   "codemirror_mode": {
    "name": "ipython",
    "version": 3
   },
   "file_extension": ".py",
   "mimetype": "text/x-python",
   "name": "python",
   "nbconvert_exporter": "python",
   "pygments_lexer": "ipython3",
   "version": "3.6.9"
  }
 },
 "nbformat": 4,
 "nbformat_minor": 2
}
