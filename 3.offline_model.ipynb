{
 "cells": [
  {
   "cell_type": "code",
   "execution_count": null,
   "metadata": {
    "ExecuteTime": {
     "end_time": "2020-02-04T09:26:16.527236Z",
     "start_time": "2020-02-04T09:26:15.261543Z"
    }
   },
   "outputs": [],
   "source": [
    "import pandas as pd\n",
    "import numpy as np\n",
    "import os\n",
    "from sklearn.preprocessing import LabelEncoder\n",
    "from tqdm import tqdm\n",
    "import lightgbm as lgb\n",
    "from sklearn.model_selection import KFold, StratifiedKFold\n",
    "import warnings\n",
    "from sklearn.metrics import f1_score, roc_auc_score\n",
    "import catboost as cbt\n",
    "import gc\n",
    "\n",
    "pd.set_option('display.max_columns', None)\n",
    "pd.set_option('display.max_rows', None)\n",
    "warnings.filterwarnings('ignore')"
   ]
  },
  {
   "cell_type": "code",
   "execution_count": null,
   "metadata": {
    "ExecuteTime": {
     "end_time": "2020-02-04T09:26:16.531438Z",
     "start_time": "2020-02-04T09:26:16.528868Z"
    }
   },
   "outputs": [],
   "source": [
    "current_path = './'\n",
    "seed = 2019"
   ]
  },
  {
   "cell_type": "code",
   "execution_count": null,
   "metadata": {
    "ExecuteTime": {
     "end_time": "2020-02-04T09:27:27.235669Z",
     "start_time": "2020-02-04T09:26:16.532526Z"
    },
    "scrolled": true
   },
   "outputs": [],
   "source": [
    "df_feature = pd.read_pickle(os.path.join(\n",
    "    current_path, 'feature', 'feature.pickle'))\n",
    "df_feature['id'] = df_feature['id'].astype('str')"
   ]
  },
  {
   "cell_type": "code",
   "execution_count": null,
   "metadata": {
    "ExecuteTime": {
     "end_time": "2020-02-04T09:28:00.169320Z",
     "start_time": "2020-02-04T09:27:27.236924Z"
    }
   },
   "outputs": [],
   "source": [
    "df_oof_lgb = pd.read_pickle(os.path.join(\n",
    "    current_path, 'prob', 'oof_lgb_qian.pickle'))\n",
    "df_oof_lgb.columns = ['id', 'lgb_oof_prob']\n",
    "df_oof_lgb['id'] = df_oof_lgb['id'].astype('str')\n",
    "df_feature = df_feature.merge(df_oof_lgb, how='left', on='id')\n",
    "print(df_feature['lgb_oof_prob'].isnull().sum())"
   ]
  },
  {
   "cell_type": "code",
   "execution_count": null,
   "metadata": {
    "ExecuteTime": {
     "end_time": "2020-02-04T09:28:33.602746Z",
     "start_time": "2020-02-04T09:28:33.481456Z"
    },
    "scrolled": true
   },
   "outputs": [],
   "source": [
    "df_feature.head()"
   ]
  },
  {
   "cell_type": "code",
   "execution_count": null,
   "metadata": {
    "ExecuteTime": {
     "end_time": "2020-02-04T09:30:25.513293Z",
     "start_time": "2020-02-04T09:28:33.604825Z"
    }
   },
   "outputs": [],
   "source": [
    "for f in tqdm(list(df_feature.select_dtypes('object'))):\n",
    "    if f not in ['id']:\n",
    "        le = LabelEncoder()\n",
    "        df_feature[f] = le.fit_transform(\n",
    "            df_feature[f].astype('str')).astype('int')"
   ]
  },
  {
   "cell_type": "code",
   "execution_count": null,
   "metadata": {
    "ExecuteTime": {
     "end_time": "2020-02-04T09:30:33.720366Z",
     "start_time": "2020-02-04T09:30:25.514531Z"
    }
   },
   "outputs": [],
   "source": [
    "df_val = df_feature[(df_feature['target'].notnull())\n",
    "                    & (df_feature['day'] == 10)]\n",
    "df_train = df_feature[df_feature['day'] < 10]"
   ]
  },
  {
   "cell_type": "code",
   "execution_count": null,
   "metadata": {
    "ExecuteTime": {
     "end_time": "2020-02-04T09:33:40.807346Z",
     "start_time": "2020-02-04T09:30:33.721845Z"
    },
    "scrolled": true
   },
   "outputs": [],
   "source": [
    "gc.collect()\n",
    "\n",
    "ycol = 'target'\n",
    "feature_names = list(\n",
    "    filter(lambda x: x not in [ycol, 'timestamp', 'ts', 'id', 'day', 'hour', 'minute', 'ts_datetime', 'minute10',\n",
    "                               'personidentification', 'level', 'followscore', 'personalscore', 'gender',\n",
    "                               'hourl', 'group'],\n",
    "           df_train.columns))\n",
    "\n",
    "\n",
    "model = lgb.LGBMClassifier(num_leaves=64,\n",
    "                           max_depth=10,\n",
    "                           learning_rate=0.4,\n",
    "                           n_estimators=100000,\n",
    "                           subsample=0.8,\n",
    "                           feature_fraction=0.8,\n",
    "                           reg_alpha=0.5,\n",
    "                           reg_lambda=0.5,\n",
    "                           random_state=seed,\n",
    "                           metric='auc'\n",
    "                           )\n",
    "\n",
    "loss = 0\n",
    "df_importance_list = []\n",
    "oof_list = []\n",
    "\n",
    "X_train = df_train[feature_names]\n",
    "Y_train = df_train[ycol]\n",
    "\n",
    "X_val = df_val[feature_names]\n",
    "Y_val = df_val[ycol]\n",
    "\n",
    "lgb_model = model.fit(X_train,\n",
    "                      Y_train,\n",
    "                      eval_names=['train', 'valid'],\n",
    "                      eval_set=[(X_train, Y_train), (X_val, Y_val)],\n",
    "                      verbose=50,\n",
    "                      eval_metric='auc',\n",
    "                      early_stopping_rounds=50)"
   ]
  },
  {
   "cell_type": "code",
   "execution_count": null,
   "metadata": {
    "ExecuteTime": {
     "end_time": "2020-02-04T09:33:40.865336Z",
     "start_time": "2020-02-04T09:33:40.830776Z"
    }
   },
   "outputs": [],
   "source": [
    "auc = lgb_model.best_score_['valid']['auc']\n",
    "print(auc)"
   ]
  },
  {
   "cell_type": "code",
   "execution_count": null,
   "metadata": {
    "ExecuteTime": {
     "end_time": "2020-02-04T09:33:41.034844Z",
     "start_time": "2020-02-04T09:33:40.868212Z"
    }
   },
   "outputs": [],
   "source": [
    "df_importance = pd.DataFrame({\n",
    "    'feature': feature_names,\n",
    "    'importance': lgb_model.feature_importances_,\n",
    "})\n",
    "df_importance = df_importance.sort_values(by='importance', ascending=False)\n",
    "df_importance"
   ]
  },
  {
   "cell_type": "code",
   "execution_count": null,
   "metadata": {
    "ExecuteTime": {
     "end_time": "2020-02-04T09:33:53.213172Z",
     "start_time": "2020-02-04T09:33:41.036538Z"
    }
   },
   "outputs": [],
   "source": [
    "val_pred = lgb_model.predict_proba(\n",
    "    X_val, num_iteration=lgb_model.best_iteration_)[:, 1]\n",
    "df_oof = pd.DataFrame()\n",
    "df_oof['lgb_pred'] = val_pred\n",
    "df_oof['target'] = Y_val.values\n",
    "df_oof['pred_label'] = df_oof['lgb_pred'].rank()\n",
    "df_oof['pred_label'] = (df_oof['pred_label'] >=\n",
    "                        df_oof.shape[0] * 0.8934642948637943).astype(int)\n",
    "f1 = f1_score(df_oof['target'], df_oof['pred_label'])\n",
    "print('f1:', f1)"
   ]
  },
  {
   "cell_type": "code",
   "execution_count": null,
   "metadata": {
    "ExecuteTime": {
     "end_time": "2020-02-04T09:33:53.239449Z",
     "start_time": "2020-02-04T09:33:53.214474Z"
    }
   },
   "outputs": [],
   "source": [
    "best_iteration = lgb_model.best_iteration_\n",
    "\n",
    "with open(os.path.join(current_path, 'best_it.txt'), 'w') as f:\n",
    "    f.write(str(best_iteration)+'\\n')\n",
    "    f.write(str(f1))"
   ]
  }
 ],
 "metadata": {
  "kernelspec": {
   "display_name": "Python [conda env:dm] *",
   "language": "python",
   "name": "conda-env-dm-py"
  },
  "language_info": {
   "codemirror_mode": {
    "name": "ipython",
    "version": 3
   },
   "file_extension": ".py",
   "mimetype": "text/x-python",
   "name": "python",
   "nbconvert_exporter": "python",
   "pygments_lexer": "ipython3",
   "version": "3.6.9"
  }
 },
 "nbformat": 4,
 "nbformat_minor": 2
}
